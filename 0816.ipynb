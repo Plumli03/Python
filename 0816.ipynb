{
 "cells": [
  {
   "cell_type": "raw",
   "id": "96778877-42a5-4849-82d8-44a1080af389",
   "metadata": {},
   "source": [
    "def fun(parameter):\n",
    "\n",
    "fun(argument)"
   ]
  },
  {
   "cell_type": "markdown",
   "id": "94e5778b-a1a3-4c27-b6e0-3fd3e9acd9bd",
   "metadata": {
    "jp-MarkdownHeadingCollapsed": true
   },
   "source": [
    "## [MarkDown語法大全](https://hackmd.io/@eMP9zQQ0Qt6I8Uqp2Vqy6w/SyiOheL5N/%2FBVqowKshRH246Q7UDyodFA?type=book#MarkDown%E8%AA%9E%E6%B3%95%E5%A4%A7%E5%85%A8)"
   ]
  },
  {
   "cell_type": "markdown",
   "id": "0a25078b-19b5-414f-8a94-18fee9023085",
   "metadata": {},
   "source": [
    "![圖片](d1.jpg)"
   ]
  },
  {
   "cell_type": "raw",
   "id": "fc735fff-85c4-4387-a071-0c0441cf6492",
   "metadata": {},
   "source": [
    "![顯示文字](相對路徑) 相對路徑同目錄時直接檔名"
   ]
  },
  {
   "cell_type": "raw",
   "id": "9ccb9734-8fc9-4b33-99e6-48f0cf75be33",
   "metadata": {},
   "source": [
    "![6546](....\\Downloads\\image.png)"
   ]
  },
  {
   "cell_type": "markdown",
   "id": "8d4600aa-2b4c-44d7-a54b-b1b3db74b0b7",
   "metadata": {
    "jp-MarkdownHeadingCollapsed": true
   },
   "source": [
    "## 4.8.1. Default Argument 引數pass to the function "
   ]
  },
  {
   "cell_type": "code",
   "execution_count": null,
   "id": "1195c156-935d-4d95-b55a-cdbc27080c64",
   "metadata": {},
   "outputs": [],
   "source": [
    "def ask_ok(prompt, retries=4, reminder='Please try again!'):\n",
    "    while True:\n",
    "        reply = input(prompt)\n",
    "        if reply in {'y', 'ye', 'yes'}:\n",
    "            return True\n",
    "        if reply in {'n', 'no', 'nop', 'nope'}:\n",
    "            return False\n",
    "        retries = retries - 1\n",
    "        if retries < 0:\n",
    "            raise ValueError('invalid user response')\n",
    "        print(reminder)"
   ]
  },
  {
   "cell_type": "code",
   "execution_count": null,
   "id": "5943dd61-77bf-4337-a967-d1178251604c",
   "metadata": {},
   "outputs": [],
   "source": [
    "ask_ok('OK to overwrite the file?', 2, 'Come on, only yes or no!')"
   ]
  },
  {
   "cell_type": "code",
   "execution_count": null,
   "id": "6b812c29-96f7-4116-8ecb-b2f9a7b7cde3",
   "metadata": {},
   "outputs": [],
   "source": [
    "i = 5\n",
    "def f(arg=i): #defaul優先看def前 arg i=5\n",
    "    print(arg)\n",
    "i = 6 \n",
    "f(10)"
   ]
  },
  {
   "cell_type": "raw",
   "id": "6daecb9c-396b-4284-8e66-b26d61087fb8",
   "metadata": {},
   "source": [
    "#default value不給可變mutable object such as a list, dict"
   ]
  },
  {
   "cell_type": "code",
   "execution_count": null,
   "id": "72b49c93-612a-476e-a740-4bd7765c4778",
   "metadata": {},
   "outputs": [],
   "source": [
    "def f(a, L=[8]): #default value不給可變mutable object such as a list, dict\n",
    "    L.append(a)  \n",
    "    return L\n",
    "\n",
    "print(f(1))\n",
    "print(f(2))\n",
    "print(f(3)) #accumulates the arguments passed on subsequent calls:"
   ]
  },
  {
   "cell_type": "code",
   "execution_count": null,
   "id": "7d5f3f4e-9c2d-4c1c-8440-4157cf1d2524",
   "metadata": {},
   "outputs": [],
   "source": [
    "def f(a, L=None): #If you don’t want the default to be shared between \n",
    "    if L is None:\n",
    "        L = []\n",
    "    L.append(a)\n",
    "    return L\n",
    "print(f(1))\n",
    "print(f(2))\n",
    "print(f(3))"
   ]
  },
  {
   "cell_type": "markdown",
   "id": "2aaa26bb-11a0-4390-a236-342eec25a9dc",
   "metadata": {
    "jp-MarkdownHeadingCollapsed": true
   },
   "source": [
    "## 4.8.2. Arguments 先default後KEY="
   ]
  },
  {
   "cell_type": "code",
   "execution_count": null,
   "id": "36fba342-ba0d-4433-85e9-48cbbd81d050",
   "metadata": {
    "scrolled": true
   },
   "outputs": [],
   "source": [
    "import keyword\n",
    "repr(keyword.kwlist) #最後會印"
   ]
  },
  {
   "cell_type": "code",
   "execution_count": null,
   "id": "67b48ece-f8f7-4ffe-8158-2bb44ef57f1e",
   "metadata": {},
   "outputs": [],
   "source": [
    "def parrot(voltage, state='a stiff', action='voom', type='Norwegian Blue'):\n",
    "    print(\"-- This parrot wouldn't\", action, end=' ')\n",
    "    print(\"if you put\", voltage, \"volts through it.\")\n",
    "    print(\"-- Lovely plumage, the\", type)\n",
    "    print(\"-- It's\", state, \"!\")\n"
   ]
  },
  {
   "cell_type": "markdown",
   "id": "7ac9286d-9f00-4405-a123-cf295ddd1ba5",
   "metadata": {},
   "source": [
    "==預設變數最前 參照位置 再keyword argument=="
   ]
  },
  {
   "cell_type": "code",
   "execution_count": null,
   "id": "9c7f6830-4f0a-4390-b530-9b4c8ba877d3",
   "metadata": {
    "scrolled": true
   },
   "outputs": [],
   "source": [
    "parrot()                     # required argument missing\n",
    "parrot(voltage=5.0, 'dead')  # non-keyword argument after a keyword argument\n",
    "parrot(110, voltage=220)     # duplicate value for the same argument\n",
    "parrot(actor='John Cleese')  # unknown keyword argument"
   ]
  },
  {
   "cell_type": "code",
   "execution_count": null,
   "id": "fb91f424-b342-47ec-9e97-873b0b8ab5a6",
   "metadata": {},
   "outputs": [],
   "source": [
    "# *不定數量參數  *name tuple **name dict\n",
    "def cheeseshop(kind, *arguments, **keywords):\n",
    "    print(\"-- Do you have any\", kind, \"?\")\n",
    "    print(\"-- I'm sorry, we're all out of\", kind)\n",
    "    for arg in arguments:\n",
    "        print(arg)\n",
    "    print(\"-\" * 40)\n",
    "    for kw in keywords: #dict拿key跑loop\n",
    "        print(kw, \":\", keywords[kw])"
   ]
  },
  {
   "cell_type": "code",
   "execution_count": null,
   "id": "8c761277-1a92-4ee1-a36a-28225c9a063d",
   "metadata": {},
   "outputs": [],
   "source": [
    "cheeseshop(\"Limburger\", \"It's very runny, sir.\",\n",
    "           \"It's really very, VERY runny, sir.\",\n",
    "           shopkeeper=\"Michael Palin\",\n",
    "           client=\"John Cleese\",\n",
    "           sketch=\"Cheese Shop Sketch\")"
   ]
  },
  {
   "cell_type": "code",
   "execution_count": null,
   "id": "2161983d-e92e-4693-9a4f-659269c5cb2d",
   "metadata": {},
   "outputs": [],
   "source": [
    "def fun(a,*t, **d):\n",
    "   for n in range(a): #range()不可字串\n",
    "    print('*')\n",
    "    print(t)\n",
    "    for k in d:\n",
    "        print(k,d[k]) #dict[key]=value key str num \n",
    "\n",
    "# fun(8,\"gey\",None,k1=85,k2=93)\n",
    "fun(8,(\"gey\",None),{'k1':85,'k2':93})"
   ]
  },
  {
   "cell_type": "markdown",
   "id": "c71c21b1-acef-4676-8ebc-27a73ef5d52b",
   "metadata": {
    "jp-MarkdownHeadingCollapsed": true
   },
   "source": [
    "## 4.8.3.Special parameters分三區 預設第2區"
   ]
  },
  {
   "cell_type": "code",
   "execution_count": null,
   "id": "c49ef4c3-2f62-4076-a199-ae5260f7fa51",
   "metadata": {},
   "outputs": [],
   "source": [
    "def fun(a,/,t=None,*, d=None):\n",
    "   for n in range(a): #range()不可字串\n",
    "    print('*')\n",
    "    print(t)\n",
    "    for k in d:\n",
    "        print(k,d[k]) #dict[key]=value key str num \n",
    "\n",
    "# fun(3,(1,None),{'k1':85,'k2':93})\n",
    "fun(3,t=(1,None),d={'k1':85,'k2':93})"
   ]
  },
  {
   "cell_type": "code",
   "execution_count": null,
   "id": "d074bbc5-57c4-4788-a809-63bea6b75fa2",
   "metadata": {},
   "outputs": [],
   "source": []
  },
  {
   "cell_type": "code",
   "execution_count": null,
   "id": "1db1995e-b8e4-4365-a134-b1ae5db1359a",
   "metadata": {},
   "outputs": [],
   "source": [
    "def f(x):\n",
    "    match x:\n",
    "        case \"林冰洋\":\n",
    "            return 4\n",
    "        case \"冰洋\":\n",
    "            return 3\n",
    "        case \"洋\":\n",
    "            return 2\n",
    "        case \"古\":\n",
    "            return 1\n",
    "\n",
    "max([\"林冰洋\",\"冰洋\",\"洋\",'古'],key=f)\n",
    "min([\"林冰洋\",\"冰洋\",\"洋\",'古'],key=f)"
   ]
  },
  {
   "cell_type": "raw",
   "id": "96e8aa25-8f03-4e33-9652-904732c4feaa",
   "metadata": {},
   "source": [
    "判斷函式\n",
    "print(*objects, sep=' ', end='\\n', file=None, flush=False)\n",
    "sorted(iterable, /, *, key=None, reverse=False)\n"
   ]
  },
  {
   "cell_type": "code",
   "execution_count": null,
   "id": "20b2fc9e-0455-411b-aa25-ef49fbb18cb4",
   "metadata": {},
   "outputs": [],
   "source": [
    "help(print)"
   ]
  },
  {
   "cell_type": "markdown",
   "id": "826bcd28-b4b1-4420-b9f7-b8b6ebf5ca0e",
   "metadata": {
    "jp-MarkdownHeadingCollapsed": true
   },
   "source": [
    "## 4.8.5. Unpacking Argument Lists dict"
   ]
  },
  {
   "cell_type": "code",
   "execution_count": 1,
   "id": "621bbc97-2955-49ef-b4b8-9a4bc2c987b9",
   "metadata": {},
   "outputs": [
    {
     "data": {
      "text/plain": [
       "[3, 4, 5]"
      ]
     },
     "execution_count": 1,
     "metadata": {},
     "output_type": "execute_result"
    }
   ],
   "source": [
    "args = [3, 6]\n",
    "list(range(*args))            # call with arguments unpacked from a list"
   ]
  },
  {
   "cell_type": "code",
   "execution_count": 2,
   "id": "b44427e8-5445-44de-89fd-3397ad4379cd",
   "metadata": {},
   "outputs": [
    {
     "name": "stdout",
     "output_type": "stream",
     "text": [
      "-- This parrot wouldn't VOOM if you put four million volts through it. E's bleedin' demised !\n"
     ]
    }
   ],
   "source": [
    "def parrot(voltage, state='a stiff', action='voom'):\n",
    "    print(\"-- This parrot wouldn't\", action, end=' ')\n",
    "    print(\"if you put\", voltage, \"volts through it.\", end=' ')\n",
    "    print(\"E's\", state, \"!\")\n",
    "\n",
    "d = {\"voltage\": \"four million\", \"state\": \"bleedin' demised\", \"action\": \"VOOM\"}\n",
    "parrot(**d)"
   ]
  },
  {
   "cell_type": "markdown",
   "id": "c6bfb71e-cec4-4861-936b-308683a6b38a",
   "metadata": {},
   "source": [
    "## 4.8.6. Lambda Expressions"
   ]
  },
  {
   "cell_type": "code",
   "execution_count": 4,
   "id": "faa37753-521e-4af1-bdf9-6748c7f0797b",
   "metadata": {},
   "outputs": [
    {
     "data": {
      "text/plain": [
       "[(1, 'one'), (2, 'two'), (3, 'three'), (4, 'four')]"
      ]
     },
     "execution_count": 4,
     "metadata": {},
     "output_type": "execute_result"
    }
   ],
   "source": [
    "pairs = [(1, 'one'), (2, 'two'), (3, 'three'), (4, 'four')]\n",
    "pairs.sort(key=lambda pair: pair[0])\n",
    "pairs"
   ]
  },
  {
   "cell_type": "markdown",
   "id": "7025fb43-1aa1-42e0-995d-96e6fb297fb4",
   "metadata": {},
   "source": [
    "## 4.8.7. Documentation Strings"
   ]
  },
  {
   "cell_type": "code",
   "execution_count": 6,
   "id": "fb39b9e9-3e5d-4657-a684-5e5b645c8e44",
   "metadata": {},
   "outputs": [
    {
     "name": "stdout",
     "output_type": "stream",
     "text": [
      "\n",
      "    Do nothing, but document it.\n",
      "\n",
      "    No, really, it doesn't do anything.\n",
      "    \n"
     ]
    }
   ],
   "source": [
    "def my_function():\n",
    "    \"\"\"\n",
    "    Do nothing, but document it.\n",
    "\n",
    "    No, really, it doesn't do anything.\n",
    "    \"\"\"\n",
    "    pass\n",
    "\n",
    "print(my_function.__doc__)   #function.__doc__函數說明"
   ]
  },
  {
   "cell_type": "code",
   "execution_count": null,
   "id": "22e84cd1-5e7f-4a97-ac48-07dd74740b25",
   "metadata": {},
   "outputs": [],
   "source": [
    "考題"
   ]
  },
  {
   "cell_type": "code",
   "execution_count": 12,
   "id": "f5230cbe-f064-4ed1-b59e-6f82b414c735",
   "metadata": {},
   "outputs": [
    {
     "data": {
      "text/plain": [
       "datetime.datetime"
      ]
     },
     "execution_count": 12,
     "metadata": {},
     "output_type": "execute_result"
    }
   ],
   "source": [
    "from datetime import datetime as dt\n",
    "a=dt.now() #類別.tab 可用函示\n",
    "type(a)"
   ]
  },
  {
   "cell_type": "code",
   "execution_count": 1,
   "id": "327e9c3f-b603-4c58-8b7a-b1f31115c802",
   "metadata": {},
   "outputs": [
    {
     "data": {
      "text/plain": [
       "True"
      ]
     },
     "execution_count": 1,
     "metadata": {},
     "output_type": "execute_result"
    }
   ],
   "source": [
    "import os\n",
    "os.path.isfile('生日.txt')"
   ]
  },
  {
   "cell_type": "code",
   "execution_count": 6,
   "id": "9c926414-f3e7-4e58-ba07-7cb3fa000983",
   "metadata": {},
   "outputs": [
    {
     "data": {
      "text/plain": [
       "2"
      ]
     },
     "execution_count": 6,
     "metadata": {},
     "output_type": "execute_result"
    }
   ],
   "source": [
    "from random import randrange\n",
    "\n",
    "randrange(2,3)\n"
   ]
  },
  {
   "cell_type": "code",
   "execution_count": 4,
   "id": "152080c2-9335-4dc2-be10-a8c40de84efb",
   "metadata": {},
   "outputs": [
    {
     "name": "stdout",
     "output_type": "stream",
     "text": [
      "05-16-18\n",
      "1,234,567.89\n"
     ]
    }
   ],
   "source": [
    "import datetime\n",
    "d=datetime.datetime(2018, 5, 16)\n",
    "print('{:%m-%d-%y}'.format(d))\n",
    "num = 1234567.89\n",
    "print('{:,.2f}'.format(num))"
   ]
  },
  {
   "cell_type": "code",
   "execution_count": 6,
   "id": "3745904f-cdb6-4cb9-8645-7a77fff86b35",
   "metadata": {},
   "outputs": [
    {
     "ename": "NameError",
     "evalue": "name 'ertjjio' is not defined",
     "output_type": "error",
     "traceback": [
      "\u001b[1;31m---------------------------------------------------------------------------\u001b[0m",
      "\u001b[1;31mNameError\u001b[0m                                 Traceback (most recent call last)",
      "Cell \u001b[1;32mIn[6], line 1\u001b[0m\n\u001b[1;32m----> 1\u001b[0m \u001b[38;5;28minput\u001b[39m(\u001b[43mertjjio\u001b[49m)\n",
      "\u001b[1;31mNameError\u001b[0m: name 'ertjjio' is not defined"
     ]
    }
   ],
   "source": [
    "input(ertjjio)"
   ]
  }
 ],
 "metadata": {
  "kernelspec": {
   "display_name": "Python 3 (ipykernel)",
   "language": "python",
   "name": "python3"
  },
  "language_info": {
   "codemirror_mode": {
    "name": "ipython",
    "version": 3
   },
   "file_extension": ".py",
   "mimetype": "text/x-python",
   "name": "python",
   "nbconvert_exporter": "python",
   "pygments_lexer": "ipython3",
   "version": "3.10.11"
  }
 },
 "nbformat": 4,
 "nbformat_minor": 5
}
