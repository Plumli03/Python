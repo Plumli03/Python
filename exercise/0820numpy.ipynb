{
 "cells": [
  {
   "cell_type": "code",
   "execution_count": null,
   "id": "3556899b-c7d3-4372-aae6-7cc33fcb87a3",
   "metadata": {},
   "outputs": [],
   "source": [
    "import numpy as np"
   ]
  },
  {
   "cell_type": "markdown",
   "id": "ecafaca1-8b9c-43ec-9c47-16a7d3c4766d",
   "metadata": {
    "jp-MarkdownHeadingCollapsed": true
   },
   "source": [
    "# Np.ndarray n維(R,C) sw,*ele=list1"
   ]
  },
  {
   "cell_type": "raw",
   "id": "28c7472d-2ed1-4bf4-865e-bfaba171f1ad",
   "metadata": {},
   "source": [
    "import math\n",
    "type(math.ceil(3.5e-10/5))"
   ]
  },
  {
   "cell_type": "code",
   "execution_count": null,
   "id": "dcd6cfa2-1736-44b0-bf65-274b29ec45c9",
   "metadata": {},
   "outputs": [],
   "source": [
    "import numpy as np\n",
    "np.ndarray(shape=(3), dtype=float, order='F')"
   ]
  },
  {
   "cell_type": "code",
   "execution_count": null,
   "id": "d942c894-a59f-4b9a-9e7d-686bbc31b481",
   "metadata": {},
   "outputs": [],
   "source": [
    "list1=list() #建構式\n",
    "list1=[(2,5),(8,9),(989,59)]\n",
    "# list打包\n",
    "sw,*ele=list1\n",
    "ele\n"
   ]
  },
  {
   "cell_type": "markdown",
   "id": "259e78e2-b80f-409b-938f-dd25a61b98d6",
   "metadata": {
    "jp-MarkdownHeadingCollapsed": true
   },
   "source": [
    "# np.array(s)[R範圍,C範圍,] 資料型態維度一致"
   ]
  },
  {
   "cell_type": "code",
   "execution_count": null,
   "id": "bb8d1bc7-d9a6-49d3-8353-af0301457cdf",
   "metadata": {},
   "outputs": [],
   "source": [
    "s = [\n",
    "        [157,153,174,168,150,152,129,151,172,161,156,156],\n",
    "        [155,182,163, 74, 76, 62, 33, 17,110,210,180,154],\n",
    "        [180,180, 50, 14, 34,  6, 10, 33, 48,106,150,181],\n",
    "        [206,109,  5,124,131,111,120,204,166, 15, 56,180],\n",
    "        [194, 64,137,251,237,239,210,220,227, 87, 71,201],\n",
    "        [172,106,207,233,233,214,220,239,228, 98, 74,206],\n",
    "        [198, 84,179,209,116,215,211,158,119, 75, 10,169],\n",
    "        [199, 97,166, 84, 10,168,134, 11, 31, 62, 22,148],\n",
    "        [199,168,191,193,158,227,178,143,182,106, 36,190],\n",
    "        [206,174,156,252,216,231,140,178,228, 43, 96,234],\n",
    "        [190,216,116,149,236,187, 86,150, 79, 38,218,241],\n",
    "        [190,224,147,100,227,210,127,102, 36,101,255,224],\n",
    "        [190,214,173, 66,103,143, 96, 50,  2,109,249,215],\n",
    "        [187,196,236, 75,  1, 81, 47,000,  6,217,255,211],\n",
    "        [183,202,237,145,  0,  0, 12,108,200,138,243,236],\n",
    "        [196,206,123,207,177,121,123,200,176, 13, 96,218] ]   # 林肯大頭照"
   ]
  },
  {
   "cell_type": "code",
   "execution_count": null,
   "id": "9d40efb9-e9c2-4529-9b2d-100ebca250fb",
   "metadata": {},
   "outputs": [],
   "source": [
    "import matplotlib.pyplot as plt #小模組pyplot\n",
    "imgplot = plt.imshow(s,cmap='gray') #digit into image\n",
    "plt.show()"
   ]
  },
  {
   "cell_type": "code",
   "execution_count": null,
   "id": "b333a88c-c95a-41c5-a028-651f6c3b9181",
   "metadata": {},
   "outputs": [],
   "source": [
    "len(s) #16 item"
   ]
  },
  {
   "cell_type": "code",
   "execution_count": null,
   "id": "6abacec6-ddea-41f2-b92f-ff14131cc8db",
   "metadata": {},
   "outputs": [],
   "source": [
    "s[1:-1] #list index"
   ]
  },
  {
   "cell_type": "code",
   "execution_count": null,
   "id": "73b4c232-4b25-4552-82ec-f6c29352f685",
   "metadata": {},
   "outputs": [],
   "source": [
    "# s1=[]\n",
    "# for it in s[1:-1] :\n",
    "#     s1.append(it[1:-1])\n",
    "s1=[ it[1:-1] for it in s[1:6] ]\n",
    "s2=[ it[1:-1] for it in s[10:-1] ]\n",
    "s3=s1+s2\n",
    "s3"
   ]
  },
  {
   "cell_type": "raw",
   "id": "c38fb07d-cd1e-4226-a5cd-890f417f483c",
   "metadata": {},
   "source": [
    "np.array(s)[R範圍,C範圍,] #rc好切片資料結構一致"
   ]
  },
  {
   "cell_type": "code",
   "execution_count": null,
   "id": "d5137783-30fb-43a6-ac9b-06207e53a19c",
   "metadata": {},
   "outputs": [],
   "source": [
    "import numpy as np\n",
    "s1=np.array(s)[1:-1,1:-1] \n",
    "# np.array(s)[R範圍,C範圍,] #rc好切片"
   ]
  },
  {
   "cell_type": "markdown",
   "id": "d8bb5e6d-6a85-47a5-9924-8eb02576d0c8",
   "metadata": {
    "jp-MarkdownHeadingCollapsed": true
   },
   "source": [
    "# 1維陣列切片同串列[]"
   ]
  },
  {
   "cell_type": "code",
   "execution_count": null,
   "id": "8c4a6b50-97b8-4636-97bc-9474c45aed8f",
   "metadata": {},
   "outputs": [],
   "source": [
    "li=[64,646,6586,668,72.6]\n",
    "li[::-1] #reverse"
   ]
  },
  {
   "cell_type": "code",
   "execution_count": null,
   "id": "404a6e7f-f92b-41ef-93ac-d63f4ee93972",
   "metadata": {},
   "outputs": [],
   "source": [
    "a=np.array(li)"
   ]
  },
  {
   "cell_type": "code",
   "execution_count": null,
   "id": "4d6d1229-e7ad-4784-a603-22da4c9bd1b1",
   "metadata": {},
   "outputs": [],
   "source": [
    "a[:5]"
   ]
  },
  {
   "cell_type": "code",
   "execution_count": null,
   "id": "3d69ae4f-a9db-421b-9d5f-da5cf8dc42da",
   "metadata": {},
   "outputs": [],
   "source": [
    "type(a)"
   ]
  },
  {
   "cell_type": "code",
   "execution_count": null,
   "id": "e1fd1f1f-bf18-4676-b699-8675ce6bcd4b",
   "metadata": {},
   "outputs": [],
   "source": [
    "import numpy as np\n",
    "a1 = np.ndarray(shape=(5,))\n",
    "a2 = np.ndarray(shape=(5, 1))\n",
    "a3 = np.ndarray(shape=(1, 5))\n",
    "\n",
    "print(a1, '\\n\\n', a2, '\\n\\n', a3)"
   ]
  },
  {
   "cell_type": "code",
   "execution_count": null,
   "id": "9d436fd7-54d1-4db2-aade-0902c65c369f",
   "metadata": {
    "scrolled": true
   },
   "outputs": [],
   "source": [
    "print(a.ndim ,a.shape, a.dtype)\n",
    "print(a2.ndim ,a2.shape, a2.dtype)"
   ]
  },
  {
   "cell_type": "code",
   "execution_count": null,
   "id": "3c435263-d586-4aab-850d-02d35a9f642f",
   "metadata": {},
   "outputs": [],
   "source": [
    "np.delete(a1,[1,2,3]) #1d"
   ]
  },
  {
   "cell_type": "markdown",
   "id": "a71ddabb-0ed7-4169-a7cb-7066c4c6f689",
   "metadata": {
    "jp-MarkdownHeadingCollapsed": true
   },
   "source": [
    "# 2維陣列 [r,c] 較list更效率切片"
   ]
  },
  {
   "cell_type": "code",
   "execution_count": null,
   "id": "76c2f436-129e-4700-b6b8-c93d36162ab0",
   "metadata": {},
   "outputs": [],
   "source": [
    "wd=[[10,50],[100,0],[80,5000]]"
   ]
  },
  {
   "cell_type": "code",
   "execution_count": null,
   "id": "97ecae1e-c156-45fe-b482-d7238b06bae4",
   "metadata": {},
   "outputs": [],
   "source": [
    "b=np.array(wd)\n",
    "b\n",
    "print(b,'\\n\\n',b[:2,1])"
   ]
  },
  {
   "cell_type": "code",
   "execution_count": null,
   "id": "c6d6f4d5-29a9-4ba6-9dc2-78a0750352de",
   "metadata": {},
   "outputs": [],
   "source": [
    "a = np.arange(1,32,2).reshape(4, 4) # reshape into a 4x4 matrix\n",
    "a"
   ]
  },
  {
   "cell_type": "code",
   "execution_count": null,
   "id": "779eab7a-8f56-48fa-b318-c34943902bbb",
   "metadata": {
    "scrolled": true
   },
   "outputs": [],
   "source": [
    "q1=np.delete(a,[1],axis=1) \n",
    "q2=np.delete(a,[1],axis=0) #2d只能刪整行python R C:axis=0 1\n",
    "print(q1,'\\n\\n',q2)"
   ]
  },
  {
   "cell_type": "raw",
   "id": "cc4fd332-8516-4fec-97a2-c808d1110312",
   "metadata": {},
   "source": [
    "array運算需要相同維度"
   ]
  },
  {
   "cell_type": "code",
   "execution_count": null,
   "id": "24cc27db-59d8-4bc6-b27f-1d5ebb9292c8",
   "metadata": {},
   "outputs": [],
   "source": [
    "h=np.array( [41 + x for x in range(0, 121, 40)]).reshape(1,4) \n",
    "h"
   ]
  },
  {
   "cell_type": "code",
   "execution_count": null,
   "id": "d8a8a450-04ae-4429-93cc-14b72182a1ef",
   "metadata": {},
   "outputs": [],
   "source": [
    "np.append(a,h,axis=0) #np BIF "
   ]
  },
  {
   "cell_type": "code",
   "execution_count": null,
   "id": "c3ee1a18-a67f-4edc-97c6-9d2bc0bdf3ed",
   "metadata": {},
   "outputs": [],
   "source": [
    "v=np.array([41 + x for x in range(0, 121, 40)]).reshape(4, 1) \n",
    "#4x1\n",
    "v"
   ]
  },
  {
   "cell_type": "code",
   "execution_count": null,
   "id": "d32081a0-199a-46b3-a270-6b95adbc6d85",
   "metadata": {},
   "outputs": [],
   "source": [
    "np.append(a,v,axis=1)"
   ]
  },
  {
   "cell_type": "markdown",
   "id": "78c556c6-8817-414b-8dde-20515bbf2712",
   "metadata": {
    "jp-MarkdownHeadingCollapsed": true
   },
   "source": [
    "# transpose"
   ]
  },
  {
   "cell_type": "code",
   "execution_count": null,
   "id": "306a2a6e-59ed-4a70-8893-0abdbcfb0edb",
   "metadata": {},
   "outputs": [],
   "source": [
    "[  row*col for row in range(2,4) for col in range(3,6) ]#1d雙loop\n",
    "# [運算式 for ...]"
   ]
  },
  {
   "cell_type": "code",
   "execution_count": null,
   "id": "a6f63668-cfe5-4743-a2be-89a47cb5649b",
   "metadata": {},
   "outputs": [],
   "source": [
    "w=[  [row*col for row in range(2,4)]  for col in range(3,6) ] #2d巢狀loop生成\n",
    "w"
   ]
  },
  {
   "cell_type": "code",
   "execution_count": null,
   "id": "8c1e34f0-0830-46dd-b511-834ea8e84d7a",
   "metadata": {
    "scrolled": true
   },
   "outputs": [],
   "source": [
    "li=[]\n",
    "for col in range(3,6):\n",
    "    li2=[]\n",
    "    for row in range(2,4):\n",
    "        li2.append(row*col)\n",
    "    li.append(li2)           #list.append list-2d\n",
    "li"
   ]
  },
  {
   "cell_type": "code",
   "execution_count": null,
   "id": "bf196534-75ae-4590-bdc7-8e6dec20afd0",
   "metadata": {},
   "outputs": [],
   "source": [
    "wt=list(zip(*w)) #zip垂直打包\n",
    "wt"
   ]
  },
  {
   "cell_type": "raw",
   "id": "a7caa0ce-d749-472d-a42a-d3cd2293fd93",
   "metadata": {},
   "source": []
  },
  {
   "cell_type": "code",
   "execution_count": null,
   "id": "9886899f-cb5b-4537-836c-b22affa55f80",
   "metadata": {},
   "outputs": [],
   "source": [
    "sr=[  [row*col for row in range(1,9)] for col in range(8) ]\n",
    "sr"
   ]
  },
  {
   "cell_type": "code",
   "execution_count": null,
   "id": "1a8183d3-e86b-49b7-9655-9f03fa142cef",
   "metadata": {},
   "outputs": [],
   "source": [
    "st= [  [row[i] for row in sr] for i in range(len(sr[0])) ] \n",
    "st"
   ]
  },
  {
   "cell_type": "code",
   "execution_count": null,
   "id": "b9e8afd5-3186-4a75-9eaa-606e4e89bc35",
   "metadata": {},
   "outputs": [],
   "source": [
    "st1=list(zip(*sr)) #zip垂直打包\n",
    "st1"
   ]
  },
  {
   "cell_type": "markdown",
   "id": "5d0e27e3-d5ea-475f-bd5f-d1832e36cc62",
   "metadata": {
    "jp-MarkdownHeadingCollapsed": true
   },
   "source": [
    "# import matplotlib.pyplot as plt"
   ]
  },
  {
   "cell_type": "code",
   "execution_count": null,
   "id": "9b67d9ae-7381-4d0c-a290-6900b082e8a6",
   "metadata": {},
   "outputs": [],
   "source": [
    "s = [\n",
    "        [157,153,174,168,150,152,129,151,172,161,156,156],\n",
    "        [155,182,163, 74, 76, 62, 33, 17,110,210,180,154],\n",
    "        [180,180, 50, 14, 34,  6, 10, 33, 48,106,150,181],\n",
    "        [206,109,  5,124,131,111,120,204,166, 15, 56,180],\n",
    "        [194, 64,137,251,237,239,210,220,227, 87, 71,201],\n",
    "        [172,106,207,233,233,214,220,239,228, 98, 74,206],\n",
    "        [198, 84,179,209,116,215,211,158,119, 75, 10,169],\n",
    "        [199, 97,166, 84, 10,168,134, 11, 31, 62, 22,148],\n",
    "        [199,168,191,193,158,227,178,143,182,106, 36,190],\n",
    "        [206,174,156,252,216,231,140,178,228, 43, 96,234],\n",
    "        [190,216,116,149,236,187, 86,150, 79, 38,218,241],\n",
    "        [190,224,147,100,227,210,127,102, 36,101,255,224],\n",
    "        [190,214,173, 66,103,143, 96, 50,  2,109,249,215],\n",
    "        [187,196,236, 75,  1, 81, 47,000,  6,217,255,211],\n",
    "        [183,202,237,145,  0,  0, 12,108,200,138,243,236],\n",
    "        [196,206,123,207,177,121,123,200,176, 13, 96,218] ]   # 林肯大頭照"
   ]
  },
  {
   "cell_type": "code",
   "execution_count": null,
   "id": "c9b519ac-709d-4c12-9e1c-2580763a5caa",
   "metadata": {},
   "outputs": [],
   "source": [
    "#list splice 麻煩\n",
    "we=[ i[1:-1] for i in s[1:-1] ]"
   ]
  },
  {
   "cell_type": "code",
   "execution_count": null,
   "id": "6cf8aa51-9df9-4bd2-ac7d-3072aa1645ab",
   "metadata": {
    "scrolled": true
   },
   "outputs": [],
   "source": [
    "# np.array(s)[R範圍,C範圍,] #rc好切片\n",
    "import numpy as np\n",
    "# s1=np.array(s)[1:-1,1:-1] \n",
    "s=np.array(s) #array.shape\n",
    "s1=s[1:-1,1:-1] \n",
    "print(s,'\\n\\n',s1)"
   ]
  },
  {
   "cell_type": "code",
   "execution_count": null,
   "id": "ee53641f-f896-4a3b-86b8-f715b4699468",
   "metadata": {},
   "outputs": [],
   "source": [
    "st= [  [row[i] for row in s] for i in range(len(s[0])) ] \n",
    "# st=list(zip(*s)) #zip垂直打包\n",
    "st1=list(zip(*s))[::-1] #zip垂直打包\n",
    "#transpose  s[0]=col_n\n",
    "\n",
    "import numpy as np\n",
    "st2=np.array(s).T[::-1]\n",
    "\n",
    "st3=np.array(s).T[:,::-1] #R,C \n",
    "st4=np.rot90(s, k=-1, axes=(0,1))   #axes=(1,0) clockwise"
   ]
  },
  {
   "cell_type": "code",
   "execution_count": null,
   "id": "5302637b-b4c6-404e-9437-60097646398b",
   "metadata": {
    "scrolled": true
   },
   "outputs": [],
   "source": [
    "import matplotlib.pyplot as plt\n",
    "fig, ax = plt.subplots(nrows=2, ncols=2,figsize=(10, 5), facecolor='lightskyblue',\n",
    "                       layout='constrained')\n",
    "fig.suptitle('65Figure')\n",
    "ax[0,0].set_title('Axes0', loc='left', fontstyle='oblique', fontsize='medium')\n",
    "ax[1,1].set_title('Axes4', loc='left', fontstyle='oblique', fontsize='medium')\n",
    "ax[0,1].set_title('Axes1', loc='left', fontstyle='oblique', fontsize='medium')\n",
    "ax[1,0].set_title('Axes3', loc='left', fontstyle='oblique', fontsize='medium')\n",
    "ax[0,0].imshow(s,cmap='gray')\n",
    "ax[1,1].imshow(st2,cmap='gray')\n",
    "ax[0,1].imshow(st4,cmap='gray')\n",
    "ax[1,0].imshow(st3,cmap='gray')"
   ]
  },
  {
   "cell_type": "markdown",
   "id": "d7e5828b-bc6f-403f-8b24-ae5079cc08be",
   "metadata": {},
   "source": [
    "# 圖片轉數字 應用"
   ]
  },
  {
   "cell_type": "code",
   "execution_count": null,
   "id": "761fec90-6a12-48cc-a31f-52f091d359e6",
   "metadata": {},
   "outputs": [],
   "source": [
    "import matplotlib.pyplot as plt\n",
    "import matplotlib.image as mpimg\n",
    "p=mpimg.imread(r'..\\..\\Downloads\\30-李宗迅1.jpg') #r' ..\\母 .\\ 子路徑'\n",
    "p1=mpimg.imread(r'30-李宗迅.jpg')\n",
    "plt.imshow(mpimg.imread('30-李宗迅1.jpg'),cmap='gray')\n",
    "p1\n",
    "len(p1)"
   ]
  },
  {
   "cell_type": "code",
   "execution_count": null,
   "id": "a7a8c664-2b26-4c54-a797-9e96b0cfcf1c",
   "metadata": {},
   "outputs": [],
   "source": [
    "st= [  [row[i] for row in p] for i in range(len(p[0])) ] \n",
    "st1=list(zip(*p))[::-1] #zip垂直打包\n",
    "\n",
    "import numpy as np\n",
    "st2=np.array(p).T[::-1]\n",
    "st3=np.array(p).T[:,::-1] #R,C  #axes=(1,0) clockwise\n",
    "st4=np.rot90(p, k=-1, axes=(0,1))"
   ]
  },
  {
   "cell_type": "code",
   "execution_count": null,
   "id": "21146f23-1091-4a46-a464-6291be4a26f2",
   "metadata": {},
   "outputs": [],
   "source": [
    "import matplotlib.pyplot as plt\n",
    "plt.rc('font', family='Microsoft JhengHei') #中文\n",
    "\n",
    "fig, ax = plt.subplots(nrows=1, ncols=2,figsize=(10, 5), facecolor='lightskyblue',\n",
    "                       layout='constrained')\n",
    "fig.suptitle('Figure')\n",
    "ax[0].set_title('Axes三', loc='left', fontstyle='oblique', fontsize='medium')\n",
    "ax[1].set_title('Axes4', loc='left', fontstyle='oblique', fontsize='medium')\n",
    "\n",
    "ax[0].imshow(st3,cmap='gray')\n",
    "ax[1].imshow(st2,cmap='gray')"
   ]
  },
  {
   "cell_type": "code",
   "execution_count": null,
   "id": "a890e1d5-b481-416e-99be-844cfa60ce34",
   "metadata": {},
   "outputs": [],
   "source": []
  },
  {
   "cell_type": "code",
   "execution_count": 118,
   "id": "8844dd91-408f-4bd2-b6ae-89d08086806f",
   "metadata": {},
   "outputs": [
    {
     "name": "stdout",
     "output_type": "stream",
     "text": [
      "3 (16, 13, 3) uint8\n"
     ]
    },
    {
     "data": {
      "image/png": "[encoded data removed]",
      "text/plain": [
       "<Figure size 640x480 with 1 Axes>"
      ]
     },
     "metadata": {},
     "output_type": "display_data"
    }
   ],
   "source": [
    "import matplotlib.pyplot as plt\n",
    "import matplotlib.image as mpimg\n",
    "p=mpimg.imread(r'30-李宗迅2.jpg')\n",
    "plt.imshow(p)\n",
    "print(p.ndim, p.shape, p.dtype)"
   ]
  },
  {
   "cell_type": "code",
   "execution_count": 134,
   "id": "1b6650d1-a506-4d39-a9a9-c365da8865d0",
   "metadata": {},
   "outputs": [
    {
     "data": {
      "text/plain": [
       "<matplotlib.image.AxesImage at 0x1ae7b321270>"
      ]
     },
     "execution_count": 134,
     "metadata": {},
     "output_type": "execute_result"
    },
    {
     "data": {
      "image/png": "[encoded data removed]",
      "text/plain": [
       "<Figure size 1000x500 with 4 Axes>"
      ]
     },
     "metadata": {},
     "output_type": "display_data"
    }
   ],
   "source": [
    "import matplotlib.pyplot as plt\n",
    "fig, ax = plt.subplots(nrows=2, ncols=2,figsize=(10, 5), facecolor='white',\n",
    "                       layout='constrained')\n",
    "plt.rc('font', family='Microsoft JhengHei') #中文\n",
    "\n",
    "fig.suptitle('Figure')\n",
    "ax[0,0].set_title('Axes0', loc='left', fontstyle='oblique', fontsize='medium')\n",
    "ax[1,0].set_title('Axes4', loc='left', fontstyle='oblique', fontsize='medium')\n",
    "ax[0,1].set_title('Axes1', loc='left', fontstyle='oblique', fontsize='medium')\n",
    "ax[1,1].set_title('Axes3', loc='left', fontstyle='oblique', fontsize='medium')\n",
    "ax[0,0].imshow(p)\n",
    "ax[1,0].imshow(p[:,:,0],cmap=\"hot\") #Sequential Colormaps\n",
    "ax[0,1].imshow(p[:,:,1],cmap=\"BuPu\")\n",
    "ax[1,1].imshow(p[:,:,2],cmap=\"winter\")"
   ]
  },
  {
   "cell_type": "markdown",
   "id": "761a2355-5be1-4935-8426-0d35ca9d8dfe",
   "metadata": {
    "jp-MarkdownHeadingCollapsed": true
   },
   "source": [
    "## 生成字轉圖"
   ]
  },
  {
   "cell_type": "code",
   "execution_count": null,
   "id": "ccfb24c0-677d-46ff-b3ad-3a9aec571638",
   "metadata": {},
   "outputs": [],
   "source": [
    "# li=[]\n",
    "# for r in range(64):\n",
    "#     li2=[]\n",
    "#     for c in range(256):\n",
    "#         li2.append(256//64*r)\n",
    "#     li.append(li2)\n",
    "l=[ [256//64*r for c in range(256)] for r in range(64) ]*4 #[[內到外]]\n",
    "\n",
    "import numpy as np\n",
    "t=np.array(l)\n",
    "t1=np.rot90(l, k=2, axes=(1,0)) #axes=(1,0) clockwise\n",
    "t3=np.hstack((t,t1))\n",
    "t=t3.astype('uint8') #縮小nd空間 uint\n",
    "\n",
    "print(t.ndim,t.shape,t.dtype)\n",
    "\n",
    "# flat = [item for row in li for item in row]\n",
    "import itertools\n",
    "f= list(itertools.chain.from_iterable(li))\n",
    "len(f)"
   ]
  },
  {
   "cell_type": "code",
   "execution_count": null,
   "id": "640fa4f5-2ecf-4e1c-a315-39959a0cc7ca",
   "metadata": {
    "scrolled": true
   },
   "outputs": [],
   "source": [
    "import matplotlib.pyplot as plt\n",
    "plt.rc('font', family='Microsoft JhengHei') #中文\n",
    "\n",
    "fig, ax = plt.subplots(nrows=1, ncols=1,figsize=(10, 5), facecolor='aliceblue',\n",
    "                       layout='constrained')\n",
    "fig.suptitle('Figure應用')\n",
    "ax.set_title('Axes圖', loc='left', fontstyle='oblique', fontsize='medium')\n",
    "ax.imshow(t3,cmap='gray')\n",
    "\n",
    "# ax.set_xticks([])\n",
    "plt.axis('off')"
   ]
  },
  {
   "cell_type": "markdown",
   "id": "03b7cec8-b94b-4bef-a85c-228b8551d74e",
   "metadata": {
    "jp-MarkdownHeadingCollapsed": true
   },
   "source": [
    "## 彩色影像 3d (r,g,b)疊圖"
   ]
  },
  {
   "cell_type": "code",
   "execution_count": null,
   "id": "de8ac56a-84a1-499c-ab46-09418766dd3a",
   "metadata": {
    "scrolled": true
   },
   "outputs": [],
   "source": [
    "import numpy as np\n",
    "\n",
    "l=[ [256//64*r for c in range(256)] for r in range(64) ]\n",
    "\n",
    "# red \n",
    "n1 = np.ndarray(shape=(64,256,3),dtype='uint8') #(r,c,n)\n",
    "# print(n1.ndim,n1.shape,n1.dtype)\n",
    "n1[:,:,0]=l\n",
    "n1[:,:,1]=0 # Broadcast\n",
    "n1[:,:,2]=0\n",
    "n2=np.vstack( (n1,n1,n1,n1) )\n",
    "\n",
    "#green\n",
    "n3 = np.ndarray(shape=(64,256,3),dtype='uint8') #(r,c,n)\n",
    "n3[:,:,0]=0\n",
    "n3[:,:,1]=l[::-1] # Broadcast\n",
    "n3[:,:,2]=0\n",
    "n4=np.vstack( [n3] * 4 )\n",
    "\n",
    "#blue\n",
    "n7 = np.ndarray(shape=(64,256,3),dtype='uint8') #(r,c,n)\n",
    "n7[:,:,0]=0\n",
    "n7[:,:,1]=0 # Broadcast\n",
    "n7[:,:,2]=l\n",
    "n8=np.vstack( (n7,n7,n7,n7) )\n",
    "n8=np.rot90(n8, k=3, axes=(0,1))\n",
    "\n",
    "#yellow\n",
    "n5 = np.ndarray(shape=(64,256,3),dtype='uint8') #(r,c,n)\n",
    "n5[:,:,0]=l\n",
    "n5[:,:,1]=l # Broadcast\n",
    "n5[:,:,2]=0\n",
    "n6=np.vstack( (n5,n5,n5,n5) )\n",
    "n6=np.rot90(n6, k=1, axes=(0,1))\n",
    "\n",
    "\n",
    "nt1=np.hstack( (n2,n4) )\n",
    "nt2=np.hstack( (n8,n6) )\n",
    "nt=np.vstack( (nt1,nt2) )\n",
    "\n",
    "\n",
    "import matplotlib.pyplot as plt\n",
    "plt.rc('font', family='Microsoft JhengHei') #中文\n",
    "\n",
    "fig, ax = plt.subplots(nrows=1, ncols=1,figsize=(10, 5), facecolor='aliceblue',\n",
    "                       layout='constrained')\n",
    "fig.suptitle('Figure應用')\n",
    "ax.set_title('Axes圖', loc='left', fontstyle='oblique', fontsize='medium')\n",
    "ax.imshow(nt)\n",
    "\n",
    "# ax.set_xticks([])\n",
    "plt.axis('off')"
   ]
  },
  {
   "cell_type": "markdown",
   "id": "ffbe7965-2689-4c6f-9277-b5757c292158",
   "metadata": {
    "jp-MarkdownHeadingCollapsed": true
   },
   "source": [
    "## xy 同座標 sharex y"
   ]
  },
  {
   "cell_type": "code",
   "execution_count": null,
   "id": "4fe1f90f-a21d-4a93-aad2-23ef8774ce4e",
   "metadata": {},
   "outputs": [],
   "source": [
    "import matplotlib.pyplot as plt\n",
    "fig, ax = plt.subplots(nrows=1, ncols=2,figsize=(10, 5), facecolor='lightskyblue',\n",
    "                       layout='constrained',  sharex=True,sharey=True)\n",
    "fig.suptitle('65Figure')\n",
    "ax[0].set_title('Axes0', loc='left', fontstyle='oblique', fontsize='medium')\n",
    "ax[1].set_title('Axes1', loc='left', fontstyle='oblique', fontsize='medium')\n",
    "ax[0].imshow(s,cmap='gray',vmin=0,vmax=255)\n",
    "ax[1].imshow(s1,cmap='gray',vmin=0,vmax=255)\n",
    "\n",
    "# ax[0].set_xlim(-1,12)\n",
    "# ax[0].set_xlim(16,-1)\n",
    "plt.show()"
   ]
  },
  {
   "cell_type": "code",
   "execution_count": null,
   "id": "4e25e545-54aa-4748-aa54-cc850818e6f2",
   "metadata": {
    "scrolled": true
   },
   "outputs": [],
   "source": [
    "import matplotlib.pyplot as plt\n",
    "import numpy as np\n",
    "\n",
    "fig, ax = plt.subplots(nrows=1, ncols=2, figsize=(10, 5), facecolor='lightskyblue', layout='constrained')\n",
    "fig.suptitle('65Figure')\n",
    "# Set titles\n",
    "ax[0].set_title('Axes0', loc='left', fontstyle='oblique', fontsize='medium')\n",
    "ax[1].set_title('Axes1', loc='left', fontstyle='oblique', fontsize='medium')\n",
    "\n",
    "\n",
    "s=np.array(s) #array.shape\n",
    "# Display images\n",
    "im0 = ax[0].imshow(s, cmap='gray', extent=[0, s.shape[1], s.shape[0], 0])\n",
    "im1 = ax[1].imshow(s1, cmap='gray', extent=[0, s1.shape[1], s1.shape[0], 0])\n",
    "\n",
    "# Determine common x and y limits\n",
    "x_min = min(0, 0)\n",
    "x_max = max(s.shape[1], s1.shape[1])\n",
    "y_min = min(0, 0)\n",
    "y_max = max(s.shape[0], s1.shape[0])\n",
    "\n",
    "# Set identical xy limits for both axes\n",
    "ax[0].set_xlim([x_min, x_max])\n",
    "ax[0].set_ylim([y_max, y_min])  # Invert y-axis\n",
    "\n",
    "ax[1].set_xlim([x_min, x_max])\n",
    "ax[1].set_ylim([y_max, y_min])  # Invert y-axis\n",
    "\n",
    "plt.show()\n"
   ]
  },
  {
   "cell_type": "markdown",
   "id": "24466e3a-8ee0-4f26-ba08-5ee80188302d",
   "metadata": {
    "jp-MarkdownHeadingCollapsed": true
   },
   "source": [
    "# 8/22 numpy.array creation routine"
   ]
  },
  {
   "cell_type": "code",
   "execution_count": null,
   "id": "1b5e993d-f185-4ea5-a338-7d11fc0774b0",
   "metadata": {},
   "outputs": [],
   "source": [
    "import numpy as np"
   ]
  },
  {
   "cell_type": "code",
   "execution_count": null,
   "id": "3714169c-e080-41db-b99c-848646838e09",
   "metadata": {},
   "outputs": [],
   "source": [
    "np.arange(3)"
   ]
  },
  {
   "cell_type": "code",
   "execution_count": null,
   "id": "d148d764-7f74-41be-9cdd-756324cff11a",
   "metadata": {},
   "outputs": [],
   "source": [
    "np.linspace(2.0, 3.0, num=4)"
   ]
  },
  {
   "cell_type": "code",
   "execution_count": null,
   "id": "7991c3a5-bde7-4042-8755-43cf994b6dc8",
   "metadata": {},
   "outputs": [],
   "source": [
    "np.ones((2, 3), dtype=int)"
   ]
  },
  {
   "cell_type": "code",
   "execution_count": null,
   "id": "47f871e8-2d57-4cd1-a791-d5ffc433ff22",
   "metadata": {},
   "outputs": [],
   "source": [
    "np.zeros((2, 3), dtype=int)"
   ]
  },
  {
   "cell_type": "code",
   "execution_count": null,
   "id": "ec61e26c-51bd-43ab-bd6a-578930225b7d",
   "metadata": {},
   "outputs": [],
   "source": [
    "a=np.arange(6).reshape((3, 2) )"
   ]
  },
  {
   "cell_type": "code",
   "execution_count": null,
   "id": "b05c3b90-df7e-4e72-a944-4387859c57ed",
   "metadata": {},
   "outputs": [],
   "source": [
    "np.reshape(a, (3,-1))       # -1 自己算"
   ]
  },
  {
   "cell_type": "code",
   "execution_count": null,
   "id": "91fef309-3fd6-4670-8dfd-a1dad1642f88",
   "metadata": {},
   "outputs": [],
   "source": [
    "a.reshape(-1)\n",
    "np.ravel(a)"
   ]
  },
  {
   "cell_type": "code",
   "execution_count": 65,
   "id": "2bf9ac17-fcf5-4ac4-9b1d-280313c14766",
   "metadata": {},
   "outputs": [
    {
     "data": {
      "text/plain": [
       "array([0, 1, 2])"
      ]
     },
     "execution_count": 65,
     "metadata": {},
     "output_type": "execute_result"
    }
   ],
   "source": [
    "a = np.arange(3)\n",
    "a\n",
    "# np.tile(a, 2)\n",
    "# np.tile(a, (2, 3))  # numpy.tile(A, (R,C)) 2d"
   ]
  },
  {
   "cell_type": "code",
   "execution_count": 66,
   "id": "9d3acec7-8786-41dc-be9c-519b8ffbf776",
   "metadata": {},
   "outputs": [
    {
     "name": "stdout",
     "output_type": "stream",
     "text": [
      "[0 0 0 1 1 1 2 2 2] [0 1 2 0 1 2 0 1 2]\n"
     ]
    }
   ],
   "source": [
    "print(np.repeat(a, 3) ,  np.tile(a, 3)  )"
   ]
  },
  {
   "cell_type": "code",
   "execution_count": 85,
   "id": "c64b07d3-d5d4-415e-af45-21ad7220d30d",
   "metadata": {},
   "outputs": [
    {
     "name": "stdout",
     "output_type": "stream",
     "text": [
      "[[[ 0  1  2]\n",
      "  [ 3  4  5]\n",
      "  [ 6  7  8]\n",
      "  [ 9 10 11]]\n",
      "\n",
      " [[12 13 14]\n",
      "  [15 16 17]\n",
      "  [18 19 20]\n",
      "  [21 22 23]]] \n",
      "\n",
      " [[ 0  1  2]\n",
      " [ 3  4  5]\n",
      " [ 6  7  8]\n",
      " [ 9 10 11]] \n",
      "\n",
      " [[ 0  1  2]\n",
      " [12 13 14]] \n",
      "\n",
      " [[ 0  3  6  9]\n",
      " [12 15 18 21]]\n"
     ]
    }
   ],
   "source": [
    "s = np.arange(24).reshape((2,4,3))  #(d,r,c)\n",
    "print(s,'\\n\\n', s[0,:,:],'\\n\\n', s[:,0,:],'\\n\\n',s[:,:,0])"
   ]
  },
  {
   "cell_type": "code",
   "execution_count": null,
   "id": "d042f690-065a-4200-b02f-c572d82f0cb3",
   "metadata": {},
   "outputs": [],
   "source": [
    "x = np.array([[1,2],[3,4]])\n",
    "np.repeat(x, 2)\n",
    "np.repeat(x, 3, axis=1)\n",
    "np.repeat(x, [1, 2], axis=0)"
   ]
  },
  {
   "cell_type": "code",
   "execution_count": 18,
   "id": "f58b6716-7687-43b9-af2e-97608f442f9e",
   "metadata": {
    "scrolled": true
   },
   "outputs": [
    {
     "data": {
      "text/plain": [
       "array([[0, 1],\n",
       "       [2, 3],\n",
       "       [4, 5]])"
      ]
     },
     "execution_count": 18,
     "metadata": {},
     "output_type": "execute_result"
    }
   ],
   "source": [
    "import numpy as np\n",
    "A = np.arange(6).reshape((3,2))\n",
    "A\n",
    "np.flip(A, 0) #ud\n",
    "np.flip(A, 1) #lr\n",
    "np.flip(A)    #udlr"
   ]
  },
  {
   "cell_type": "code",
   "execution_count": 39,
   "id": "31a6db72-6288-4b0e-bd4b-1e91eba1a9b5",
   "metadata": {},
   "outputs": [
    {
     "data": {
      "text/plain": [
       "[1, 1, 0, 2, 0, 0, 1, 2, 2, 2]"
      ]
     },
     "execution_count": 39,
     "metadata": {},
     "output_type": "execute_result"
    }
   ],
   "source": [
    "import random as rd\n",
    "[ rd.randint(0,2) for n in range(10)]"
   ]
  },
  {
   "cell_type": "raw",
   "id": "94d83d69-1356-4ed5-a58c-40625da73a64",
   "metadata": {},
   "source": []
  },
  {
   "cell_type": "code",
   "execution_count": 2,
   "id": "f458c6ff-2201-4bab-8a85-6f5796fea6a3",
   "metadata": {},
   "outputs": [
    {
     "name": "stderr",
     "output_type": "stream",
     "text": [
      "Clipping input data to the valid range for imshow with RGB data ([0..1] for floats or [0..255] for integers). Got range [0.0..255.0].\n"
     ]
    },
    {
     "data": {
      "text/plain": [
       "<matplotlib.image.AxesImage at 0x1701da8d990>"
      ]
     },
     "execution_count": 2,
     "metadata": {},
     "output_type": "execute_result"
    },
    {
     "data": {
      "image/png": "[encoded data removed]",
      "text/plain": [
       "<Figure size 640x480 with 1 Axes>"
      ]
     },
     "metadata": {},
     "output_type": "display_data"
    }
   ],
   "source": [
    "# (r,c,color) index[1:5]連續 [[2,7,8,9]]指定位置\n",
    "import numpy as np\n",
    "z = np.zeros(12*12*3).reshape((12,12,3))\n",
    "z[2:10,[2,3,8,9],0]=255 #red\n",
    "z[5,4:8,2]=255 #blue\n",
    "z[[1,10],1:5,1]=255 #green\n",
    "z[[1,10],7:11,1]=255 #green\n",
    "\n",
    "import matplotlib.pyplot as plt\n",
    "plt.imshow(z)\n",
    "# print(p.ndim, p.shape, p.dtype)"
   ]
  },
  {
   "cell_type": "markdown",
   "id": "38708e4f-296a-439f-a636-b9e76baaa53b",
   "metadata": {
    "jp-MarkdownHeadingCollapsed": true
   },
   "source": [
    "### 練習[ [n]*5 for n in range(0,13,4)]"
   ]
  },
  {
   "cell_type": "code",
   "execution_count": null,
   "id": "c05c71c6-b52f-44db-8b75-cbbf03500d40",
   "metadata": {},
   "outputs": [],
   "source": [
    "[ [n]*5 for n in range(0,13,4)]"
   ]
  },
  {
   "cell_type": "code",
   "execution_count": null,
   "id": "bad36843-fb7f-45b5-a36e-58064076cc42",
   "metadata": {},
   "outputs": [],
   "source": [
    "b=np.array([ [n]*5 for n in range(0,13,4)])\n",
    "b"
   ]
  },
  {
   "cell_type": "code",
   "execution_count": null,
   "id": "56aa6605-14ba-4dc8-bfc6-90d845b1860c",
   "metadata": {},
   "outputs": [],
   "source": [
    "c=np.arange(0,13,4).reshape(4,1)\n",
    "c"
   ]
  },
  {
   "cell_type": "code",
   "execution_count": null,
   "id": "d902d862-eb23-4194-9758-9b9899435b65",
   "metadata": {},
   "outputs": [],
   "source": [
    "np.tile(c, 5)"
   ]
  },
  {
   "cell_type": "code",
   "execution_count": null,
   "id": "8f447876-bac4-4653-a4ba-9762713155c3",
   "metadata": {},
   "outputs": [],
   "source": [
    "np.repeat(c, 5, axis=1)"
   ]
  },
  {
   "cell_type": "code",
   "execution_count": null,
   "id": "1e52d047-2ae3-49b9-bc11-75ed30dd6b11",
   "metadata": {},
   "outputs": [],
   "source": [
    "np.broadcast_to(c, (4, 5))"
   ]
  },
  {
   "cell_type": "code",
   "execution_count": null,
   "id": "1240dbe8-14af-4a86-9aa2-7a7145fda005",
   "metadata": {},
   "outputs": [],
   "source": [
    "ig2"
   ]
  },
  {
   "cell_type": "code",
   "execution_count": null,
   "id": "60b1eaeb-0aad-45e4-a4cd-e94422526141",
   "metadata": {},
   "outputs": [],
   "source": [
    "a=np.array([ [n]*4 for n in range(0,21,5)]).T\n",
    "a"
   ]
  },
  {
   "cell_type": "code",
   "execution_count": null,
   "id": "4a07cd08-e121-4dc4-85eb-691914793658",
   "metadata": {},
   "outputs": [],
   "source": [
    "d=np.arange(0,21,5)\n",
    "d"
   ]
  },
  {
   "cell_type": "code",
   "execution_count": null,
   "id": "aafdfed2-adbb-433a-92a6-a594f8aad11d",
   "metadata": {},
   "outputs": [],
   "source": [
    "np.tile(d, (4,1))"
   ]
  },
  {
   "cell_type": "code",
   "execution_count": null,
   "id": "f5619895-6f23-4d2d-813a-f7880e4443c7",
   "metadata": {},
   "outputs": [],
   "source": [
    "np.broadcast_to(d, (4,5))"
   ]
  }
 ],
 "metadata": {
  "kernelspec": {
   "display_name": "Python 3 (ipykernel)",
   "language": "python",
   "name": "python3"
  },
  "language_info": {
   "codemirror_mode": {
    "name": "ipython",
    "version": 3
   },
   "file_extension": ".py",
   "mimetype": "text/x-python",
   "name": "python",
   "nbconvert_exporter": "python",
   "pygments_lexer": "ipython3",
   "version": "3.10.11"
  }
 },
 "nbformat": 4,
 "nbformat_minor": 5
}
